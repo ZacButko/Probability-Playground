{
 "cells": [
  {
   "cell_type": "markdown",
   "metadata": {},
   "source": [
    "# Advantage or Offset\n",
    "\n",
    "In DnD many things are decided by rolling a 20 sided dice and leaving fate to probabilities.\n",
    "\n",
    "One can increase their 'luck' with by adding items, skills, spells, or buffs which add a fixed offset to the d20 roll. For example, based on my class as a Rogue I might be extremely dexterous giving me a constant +3 bonus in addition to whatever I roll on the d20. One can easily see that this gives me an extra 3/20 chance of beating the minimum necessary roll (DC) to be sneaky and not detected.\n",
    "\n",
    "Other items or skills might give me 'advantage' on rolls. This simply means I roll 2 d20's and take the higher value. This gives an extra chance to win, but the by what amount is not immediately apparent, as it changes the underlying probability distribution.\n",
    "\n",
    "How much advantage does the advantage mechanic give you? Should one seek to increase their base stats or find ways to gain advantage? Let's find out!"
   ]
  },
  {
   "cell_type": "code",
   "execution_count": 70,
   "metadata": {},
   "outputs": [],
   "source": [
    "import numpy as np\n",
    "import matplotlib.pyplot as plt"
   ]
  },
  {
   "cell_type": "code",
   "execution_count": 71,
   "metadata": {},
   "outputs": [],
   "source": [
    "rng = np.random.default_rng()"
   ]
  },
  {
   "cell_type": "code",
   "execution_count": 72,
   "metadata": {},
   "outputs": [],
   "source": [
    "def roll_dice(n_throws=10000, n_dice=1, n_sides=6):\n",
    "    result = []\n",
    "    for i in range(n_dice):\n",
    "        # here rng.integers calls the random number generator to pull integers from a uniform distribution\n",
    "        result.append(rng.integers(low = 1, high = n_sides, size = n_throws, endpoint=True))\n",
    "    \n",
    "    return result"
   ]
  },
  {
   "cell_type": "code",
   "execution_count": 73,
   "metadata": {},
   "outputs": [
    {
     "name": "stdout",
     "output_type": "stream",
     "text": [
      "[array([4, 4, 1, 2, 1, 1, 2, 2, 1, 4]), array([1, 3, 4, 1, 4, 2, 5, 5, 5, 1])]\n"
     ]
    }
   ],
   "source": [
    "print(roll_dice(n_throws=10, n_dice=2))"
   ]
  },
  {
   "cell_type": "markdown",
   "metadata": {},
   "source": [
    "## Offset"
   ]
  },
  {
   "cell_type": "code",
   "execution_count": 82,
   "metadata": {},
   "outputs": [
    {
     "data": {
      "image/png": "[encoded data removed]",
      "text/plain": [
       "<Figure size 432x288 with 1 Axes>"
      ]
     },
     "metadata": {
      "needs_background": "light"
     },
     "output_type": "display_data"
    }
   ],
   "source": [
    "max_val = n_sides = 20\n",
    "offset = 4\n",
    "n_throws = 100000\n",
    "offset_rolls = [roll+offset for roll in roll_dice(n_throws, n_sides=n_sides)]\n",
    "histo, edges = np.histogram(offset_rolls, bins=np.arange(1+offset,(max_val+ offset + 2)))\n",
    "# plot histogram\n",
    "plt.bar(edges[:max_val], histo)\n",
    "plt.title(f'Rolling 1d20 with offset +{offset}\\nN samples = {n_throws}')\n",
    "plt.xlabel('Dice value')\n",
    "plt.ylabel('Count of observed dice value')\n",
    "plt.show()"
   ]
  },
  {
   "cell_type": "markdown",
   "metadata": {},
   "source": [
    "Rolling 1d20 gives the expected uniform distribution. Adding an offset simply pushes this uniform distribution to the right.\n",
    "\n",
    "## Advantage"
   ]
  },
  {
   "cell_type": "code",
   "execution_count": 76,
   "metadata": {},
   "outputs": [],
   "source": [
    "def pick_advantage(rolls):\n",
    "    '''expects a 2d array'''\n",
    "    return [max(rolls[0][i], rolls[1][i]) for i in range(len(rolls[0]))]"
   ]
  },
  {
   "cell_type": "code",
   "execution_count": 78,
   "metadata": {},
   "outputs": [
    {
     "name": "stdout",
     "output_type": "stream",
     "text": [
      "[array([6, 4, 3, 1, 3, 4, 1, 2, 3, 2]), array([3, 5, 5, 5, 5, 6, 6, 4, 3, 4])]\n",
      "[6, 5, 5, 5, 5, 6, 6, 4, 3, 4]\n"
     ]
    }
   ],
   "source": [
    "rolls = roll_dice(n_throws=10, n_dice=2)\n",
    "print(rolls)\n",
    "print(pick_advantage(rolls))"
   ]
  },
  {
   "cell_type": "code",
   "execution_count": 83,
   "metadata": {},
   "outputs": [
    {
     "data": {
      "image/png": "[encoded data removed]",
      "text/plain": [
       "<Figure size 432x288 with 1 Axes>"
      ]
     },
     "metadata": {
      "needs_background": "light"
     },
     "output_type": "display_data"
    }
   ],
   "source": [
    "max_val = n_sides = 20\n",
    "n_throws=100000\n",
    "advantage_rolls = pick_advantage(roll_dice(n_throws, n_sides=n_sides, n_dice=2))\n",
    "histo, edges = np.histogram(advantage_rolls, bins=np.arange(1,(max_val + 2)))\n",
    "# plot histogram\n",
    "plt.bar(edges[:max_val], histo)\n",
    "plt.title(f'Picking the higher of 2d20\\nN samples = {n_throws}')\n",
    "plt.xlabel('Dice value')\n",
    "plt.ylabel('Count of observed dice value')\n",
    "plt.show()"
   ]
  },
  {
   "cell_type": "markdown",
   "metadata": {},
   "source": [
    "Picking the higher of two dice gives a skewed distribution. Rolling a 20 has the highest probability, and decreases linearlly with lower dice rolls. \n",
    "\n",
    "## Comparing the Two"
   ]
  },
  {
   "cell_type": "code",
   "execution_count": 93,
   "metadata": {},
   "outputs": [
    {
     "name": "stdout",
     "output_type": "stream",
     "text": [
      "Advantage: mean:13.82, std:4.72\n",
      "Offset +0: mean:10.49, std:5.76\n",
      "difference in mean: 3.33\n"
     ]
    }
   ],
   "source": [
    "n_sides = 20\n",
    "offset = 0\n",
    "n_throws = 100000\n",
    "offset_rolls = [roll+offset for roll in roll_dice(n_throws, n_sides=n_sides)]\n",
    "advantage_rolls = pick_advantage(roll_dice(n_throws, n_sides=n_sides, n_dice=2))\n",
    "\n",
    "a_s = np.std(advantage_rolls)\n",
    "a_m = np.mean(advantage_rolls)\n",
    "o_s = np.std(offset_rolls)\n",
    "o_m = np.mean(offset_rolls)\n",
    "diff = a_m - o_m\n",
    "\n",
    "print(f'Advantage: mean:{a_m:.2f}, std:{a_s:.2f}')\n",
    "print(f'Offset +{offset}: mean:{o_m:.2f}, std:{o_s:.2f}')\n",
    "print(f'difference in mean: {diff:.2f}')"
   ]
  },
  {
   "cell_type": "markdown",
   "metadata": {},
   "source": [
    "## Conclusion\n",
    "\n",
    "Advantage is definltely useful for increases your chances of a favorable outcome. On average it increases the mean value of your dice roll by 3.33. In addition it tightens up the standard deviation, so you can be more sure that your roll fa"
   ]
  }
 ],
 "metadata": {
  "kernelspec": {
   "display_name": "Python 3",
   "language": "python",
   "name": "python3"
  },
  "language_info": {
   "codemirror_mode": {
    "name": "ipython",
    "version": 3
   },
   "file_extension": ".py",
   "mimetype": "text/x-python",
   "name": "python",
   "nbconvert_exporter": "python",
   "pygments_lexer": "ipython3",
   "version": "3.7.4"
  }
 },
 "nbformat": 4,
 "nbformat_minor": 2
}
