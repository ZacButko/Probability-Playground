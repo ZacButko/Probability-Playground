{
 "cells": [
  {
   "cell_type": "markdown",
   "metadata": {},
   "source": [
    "Advantage or buff"
   ]
  },
  {
   "cell_type": "code",
   "execution_count": 70,
   "metadata": {},
   "outputs": [],
   "source": [
    "import numpy as np\n",
    "import matplotlib.pyplot as plt"
   ]
  },
  {
   "cell_type": "code",
   "execution_count": 71,
   "metadata": {},
   "outputs": [],
   "source": [
    "rng = np.random.default_rng()"
   ]
  },
  {
   "cell_type": "code",
   "execution_count": 72,
   "metadata": {},
   "outputs": [],
   "source": [
    "def roll_dice(n_throws=10000, n_dice=1, n_sides=6):\n",
    "    result = []\n",
    "    for i in range(n_dice):\n",
    "        # here rng.integers calls the random number generator to pull integers from a uniform distribution\n",
    "        result.append(rng.integers(low = 1, high = n_sides, size = n_throws, endpoint=True))\n",
    "    \n",
    "    return result"
   ]
  },
  {
   "cell_type": "code",
   "execution_count": 73,
   "metadata": {},
   "outputs": [
    {
     "name": "stdout",
     "output_type": "stream",
     "text": [
      "[array([4, 4, 1, 2, 1, 1, 2, 2, 1, 4]), array([1, 3, 4, 1, 4, 2, 5, 5, 5, 1])]\n"
     ]
    }
   ],
   "source": [
    "print(roll_dice(n_throws=10, n_dice=2))"
   ]
  },
  {
   "cell_type": "code",
   "execution_count": 74,
   "metadata": {},
   "outputs": [
    {
     "data": {
      "text/plain": [
       "[array([4, 1, 5, 3, 4, 4, 2, 2, 5, 6])]"
      ]
     },
     "execution_count": 74,
     "metadata": {},
     "output_type": "execute_result"
    }
   ],
   "source": [
    "roll_dice(n_throws=10)"
   ]
  },
  {
   "cell_type": "code",
   "execution_count": 75,
   "metadata": {},
   "outputs": [
    {
     "data": {
      "image/png": "[encoded data removed]",
      "text/plain": [
       "<Figure size 432x288 with 1 Axes>"
      ]
     },
     "metadata": {
      "needs_background": "light"
     },
     "output_type": "display_data"
    }
   ],
   "source": [
    "max_val = n_sides = 20\n",
    "offset = 4\n",
    "offset_rolls = [roll+offset for roll in roll_dice(100000, n_sides=n_sides)]\n",
    "histo, edges = np.histogram(offset_rolls, bins=np.arange(1+offset,(max_val+ offset + 2)))\n",
    "# plot histogram\n",
    "plt.bar(edges[:max_val], histo)\n",
    "plt.show()"
   ]
  },
  {
   "cell_type": "code",
   "execution_count": 76,
   "metadata": {},
   "outputs": [],
   "source": [
    "def pick_advantage(rolls):\n",
    "    '''expects a 2d array'''\n",
    "    return [max(rolls[0][i], rolls[1][i]) for i in range(len(rolls[0]))]"
   ]
  },
  {
   "cell_type": "code",
   "execution_count": 78,
   "metadata": {},
   "outputs": [
    {
     "name": "stdout",
     "output_type": "stream",
     "text": [
      "[array([6, 4, 3, 1, 3, 4, 1, 2, 3, 2]), array([3, 5, 5, 5, 5, 6, 6, 4, 3, 4])]\n",
      "[6, 5, 5, 5, 5, 6, 6, 4, 3, 4]\n"
     ]
    }
   ],
   "source": [
    "rolls = roll_dice(n_throws=10, n_dice=2)\n",
    "print(rolls)\n",
    "print(pick_advantage(rolls))"
   ]
  },
  {
   "cell_type": "code",
   "execution_count": 40,
   "metadata": {},
   "outputs": [
    {
     "data": {
      "image/png": "[encoded data removed]",
      "text/plain": [
       "<Figure size 432x288 with 1 Axes>"
      ]
     },
     "metadata": {
      "needs_background": "light"
     },
     "output_type": "display_data"
    }
   ],
   "source": [
    "max_val = n_sides = 20\n",
    "advantage_rolls = pick_advantage(roll_dice(100000, n_sides=n_sides, n_dice=2))\n",
    "histo, edges = np.histogram(advantage_rolls, bins=np.arange(1,(max_val + 2)))\n",
    "# plot histogram\n",
    "plt.bar(edges[:max_val], histo)\n",
    "plt.show()"
   ]
  },
  {
   "cell_type": "code",
   "execution_count": 36,
   "metadata": {},
   "outputs": [
    {
     "data": {
      "text/plain": [
       "[5, 2, 4, 6, 6, 2, 2, 5, 5, 4, 4, 3, 4, 6, 6, 5, 6, 1, 5, 3]"
      ]
     },
     "execution_count": 36,
     "metadata": {},
     "output_type": "execute_result"
    }
   ],
   "source": [
    "pick_advantage(roll_dice(20, n_sides=6, n_dice=2))"
   ]
  },
  {
   "cell_type": "code",
   "execution_count": 64,
   "metadata": {},
   "outputs": [],
   "source": [
    "max_val = n_sides = 20\n",
    "offset = 0\n",
    "offset_rolls = [roll+offset for roll in roll_dice(100000, n_sides=n_sides)]\n",
    "advantage_rolls = pick_advantage(roll_dice(100000, n_sides=n_sides, n_dice=2))"
   ]
  },
  {
   "cell_type": "code",
   "execution_count": 65,
   "metadata": {},
   "outputs": [
    {
     "data": {
      "text/plain": [
       "4.6882904604557085"
      ]
     },
     "execution_count": 65,
     "metadata": {},
     "output_type": "execute_result"
    }
   ],
   "source": [
    "np.std(advantage_rolls)"
   ]
  },
  {
   "cell_type": "code",
   "execution_count": 66,
   "metadata": {},
   "outputs": [
    {
     "data": {
      "text/plain": [
       "13.84172"
      ]
     },
     "execution_count": 66,
     "metadata": {},
     "output_type": "execute_result"
    }
   ],
   "source": [
    "np.mean(advantage_rolls)"
   ]
  },
  {
   "cell_type": "code",
   "execution_count": 67,
   "metadata": {},
   "outputs": [
    {
     "data": {
      "text/plain": [
       "10.47696"
      ]
     },
     "execution_count": 67,
     "metadata": {},
     "output_type": "execute_result"
    }
   ],
   "source": [
    "np.mean(offset_rolls)"
   ]
  },
  {
   "cell_type": "code",
   "execution_count": 68,
   "metadata": {},
   "outputs": [
    {
     "data": {
      "text/plain": [
       "5.77319921346908"
      ]
     },
     "execution_count": 68,
     "metadata": {},
     "output_type": "execute_result"
    }
   ],
   "source": [
    "np.std(offset_rolls)"
   ]
  },
  {
   "cell_type": "code",
   "execution_count": 69,
   "metadata": {},
   "outputs": [
    {
     "data": {
      "text/plain": [
       "3.3647600000000004"
      ]
     },
     "execution_count": 69,
     "metadata": {},
     "output_type": "execute_result"
    }
   ],
   "source": [
    "np.mean(advantage_rolls) - np.mean(offset_rolls)"
   ]
  },
  {
   "cell_type": "code",
   "execution_count": null,
   "metadata": {},
   "outputs": [],
   "source": []
  }
 ],
 "metadata": {
  "kernelspec": {
   "display_name": "Python 3",
   "language": "python",
   "name": "python3"
  },
  "language_info": {
   "codemirror_mode": {
    "name": "ipython",
    "version": 3
   },
   "file_extension": ".py",
   "mimetype": "text/x-python",
   "name": "python",
   "nbconvert_exporter": "python",
   "pygments_lexer": "ipython3",
   "version": "3.7.4"
  }
 },
 "nbformat": 4,
 "nbformat_minor": 2
}
