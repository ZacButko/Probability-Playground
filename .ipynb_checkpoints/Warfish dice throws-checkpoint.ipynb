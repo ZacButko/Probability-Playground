{
 "cells": [
  {
   "cell_type": "code",
   "execution_count": 1,
   "metadata": {},
   "outputs": [],
   "source": [
    "import numpy as np\n",
    "import matplotlib.pyplot as plt"
   ]
  },
  {
   "cell_type": "code",
   "execution_count": 5,
   "metadata": {},
   "outputs": [],
   "source": [
    "rng = np.random.default_rng()\n",
    "\n",
    "def roll_dice(n_throws, n_dice, n_sides=6):\n",
    "    result = []\n",
    "    for i in range(n_throws):\n",
    "        # here rng.integers calls the random number generator to pull integers from a uniform distribution\n",
    "        result.append(rng.integers(low = 1, high = n_sides, size = n_dice, endpoint=True))\n",
    "    \n",
    "    return result"
   ]
  },
  {
   "cell_type": "code",
   "execution_count": 6,
   "metadata": {},
   "outputs": [
    {
     "name": "stdout",
     "output_type": "stream",
     "text": [
      "[array([4, 5]), array([2, 5]), array([3, 6]), array([3, 6]), array([6, 3]), array([1, 2]), array([5, 2]), array([3, 6]), array([1, 1]), array([5, 4])]\n"
     ]
    }
   ],
   "source": [
    "throws = roll_dice(10, 2)\n",
    "print(throws)"
   ]
  },
  {
   "cell_type": "code",
   "execution_count": null,
   "metadata": {},
   "outputs": [],
   "source": [
    "def attack(n_attack_dice, n_deffend_dice, n_throws):\n",
    "    throws = roll_dice(n_throws, n_attack_dice + n_deffend_dice)\n",
    "    for i in range(n_throws):\n",
    "        attack_list = throws[i][0:n_attack_dice]\n",
    "        deffend_list = throws[i][n_attack_dice:]\n",
    "        attack_list.sort()\n",
    "        deffend_list.sort()\n",
    "        score = [0,0]\n",
    "        for i in range( [len(attack_list), len(deffend_list)].sort()[-1] ):\n",
    "            if attack_list[i] > deffend_list[i]:\n",
    "                score"
   ]
  },
  {
   "cell_type": "code",
   "execution_count": 9,
   "metadata": {},
   "outputs": [],
   "source": [
    "score = [1,2]"
   ]
  },
  {
   "cell_type": "code",
   "execution_count": 10,
   "metadata": {},
   "outputs": [
    {
     "data": {
      "text/plain": [
       "1"
      ]
     },
     "execution_count": 10,
     "metadata": {},
     "output_type": "execute_result"
    }
   ],
   "source": [
    "score[0]"
   ]
  },
  {
   "cell_type": "code",
   "execution_count": 12,
   "metadata": {},
   "outputs": [],
   "source": [
    "score[1] +=1"
   ]
  },
  {
   "cell_type": "code",
   "execution_count": null,
   "metadata": {},
   "outputs": [],
   "source": []
  }
 ],
 "metadata": {
  "kernelspec": {
   "display_name": "Python 3",
   "language": "python",
   "name": "python3"
  },
  "language_info": {
   "codemirror_mode": {
    "name": "ipython",
    "version": 3
   },
   "file_extension": ".py",
   "mimetype": "text/x-python",
   "name": "python",
   "nbconvert_exporter": "python",
   "pygments_lexer": "ipython3",
   "version": "3.7.4"
  }
 },
 "nbformat": 4,
 "nbformat_minor": 2
}
