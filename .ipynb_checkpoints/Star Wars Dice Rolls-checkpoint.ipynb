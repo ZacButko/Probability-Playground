{
 "cells": [
  {
   "cell_type": "markdown",
   "metadata": {},
   "source": [
    "# Starwars dice rolling simulator\n",
    "Original question posed as, \n",
    "\n",
    "    \"In a game, you start with 3 dice with 8 sides (d8),\n",
    "    When you upgrade, is it better change a d8 to a d12, or instead add a d6?\"\n",
    "    \n",
    "This depends on the content of each of the sides, and what fovorable or unfavorable outcomes you are optimizing for.\n",
    "Below we will be solving with a brute force method, then with pure math"
   ]
  },
  {
   "cell_type": "markdown",
   "metadata": {},
   "source": [
    "# Setup"
   ]
  },
  {
   "cell_type": "markdown",
   "metadata": {},
   "source": [
    "### Load packages"
   ]
  },
  {
   "cell_type": "code",
   "execution_count": 28,
   "metadata": {},
   "outputs": [],
   "source": [
    "# First import librarires\n",
    "# numpy will be used for our random number generator, and for quickly bucketing the histogram\n",
    "# matplotlib is for plotting the histogram\n",
    "\n",
    "import numpy as np\n",
    "import math\n",
    "import json\n",
    "import matplotlib.pyplot as plt"
   ]
  },
  {
   "cell_type": "markdown",
   "metadata": {},
   "source": [
    "### Problem Definitions"
   ]
  },
  {
   "cell_type": "code",
   "execution_count": 19,
   "metadata": {},
   "outputs": [],
   "source": [
    "# Setup a default random number generator from numpy\n",
    "# since no seed is specified, a random seed will be pulled fresh from the OS\n",
    "rng = np.random.default_rng()\n",
    "\n",
    "d6_dice = {\n",
    "    1: \"success\",\n",
    "    2: \"success\",\n",
    "    3: \"blank\",\n",
    "    4: \"blank\",\n",
    "    5: \"blank\",\n",
    "    6: \"blank\"\n",
    "}\n",
    "\n",
    "d8_dice = {\n",
    "    1: \"success\",\n",
    "    2: \"success\",\n",
    "    3: \"success\",\n",
    "    4: \"double success\",\n",
    "    5: \"blank\",\n",
    "    6: \"blank\",\n",
    "    7: \"blank\",\n",
    "    8: \"blank\"\n",
    "}\n",
    "\n",
    "d12_dice = {\n",
    "    1: \"success\",\n",
    "    2: \"success\",\n",
    "    3: \"success\",\n",
    "    4: \"success\",\n",
    "    5: \"success\",\n",
    "    6: \"success\",\n",
    "    7: \"double success\",\n",
    "    8: \"double success\",\n",
    "    9: \"blank\",\n",
    "    10: \"blank\",\n",
    "    11: \"blank\",\n",
    "    12: \"blank\"\n",
    "}\n",
    "\n",
    "dice_chooser = {\n",
    "    6: d6_dice,\n",
    "    8: d8_dice,\n",
    "    12: d12_dice\n",
    "}\n",
    "\n",
    "roll_points = {\n",
    "    \"blank\": 0,\n",
    "    \"success\": 1,\n",
    "    \"double success\": 2\n",
    "}"
   ]
  },
  {
   "cell_type": "markdown",
   "metadata": {},
   "source": [
    "# Brute Force: Monte Carlo"
   ]
  },
  {
   "cell_type": "code",
   "execution_count": 36,
   "metadata": {},
   "outputs": [],
   "source": [
    "# Helper to roll the dice\n",
    "# input is: [ [number of dice type 1, number of sides of dice type 1], [..2, ..2], ... ]\n",
    "# output is: \n",
    "\n",
    "def roll_dice(dice_specs):\n",
    "    result = {\n",
    "        'throws': [],\n",
    "        'score': 0,\n",
    "        'profile': {\n",
    "            'success': 0,\n",
    "            'double success': 0,\n",
    "            'blank': 0\n",
    "        } \n",
    "    }\n",
    "    \n",
    "    for i in range(len(dice_specs)):\n",
    "        n_sides = dice_specs[i][1]\n",
    "        n_dice = dice_specs[i][0]\n",
    "        rolls = rng.integers(low = 1, high=n_sides, size=n_dice, endpoint=True)\n",
    "        \n",
    "        d_dict = dice_chooser[n_sides] if n_sides in dice_chooser.keys() else print(\"Error, dice not found\")\n",
    "        \n",
    "        for roll in rolls:\n",
    "            outcome = d_dict[roll]\n",
    "            result['profile'][outcome] += 1\n",
    "            result['throws'].append(outcome)\n",
    "            result['score'] += roll_points[outcome]\n",
    "    \n",
    "    flat_profile = [result['profile']['success'], result['profile']['double success'], result['profile']['blank']]\n",
    "    result['flat_profile'] = str(result['score']) + \" \" + str(flat_profile)\n",
    "    \n",
    "    return result"
   ]
  },
  {
   "cell_type": "code",
   "execution_count": 37,
   "metadata": {},
   "outputs": [
    {
     "name": "stdout",
     "output_type": "stream",
     "text": [
      "{\n",
      "  \"throws\": [\n",
      "    \"blank\",\n",
      "    \"success\",\n",
      "    \"success\",\n",
      "    \"blank\"\n",
      "  ],\n",
      "  \"score\": 2,\n",
      "  \"profile\": {\n",
      "    \"success\": 2,\n",
      "    \"double success\": 0,\n",
      "    \"blank\": 2\n",
      "  },\n",
      "  \"flat_profile\": \"2 [2, 0, 2]\"\n",
      "}\n"
     ]
    }
   ],
   "source": [
    "# Let's try it out. \n",
    "# Let's roll 3d8 and 1d6\n",
    "result = roll_dice([[3,8], [1,6]])\n",
    "print(json.dumps(result, indent=2))\n"
   ]
  },
  {
   "cell_type": "code",
   "execution_count": 48,
   "metadata": {},
   "outputs": [],
   "source": [
    "# now let's\n",
    "# 1. collect a bunch of samples,\n",
    "# 2. bin the results into a histogram\n",
    "# 3. organize histogram by desireable outcome\n",
    "\n",
    "def roll_stats_descriptive( dice_specs, n_rolls = 10000):\n",
    "    histo = {}\n",
    "    for i in range(n_rolls):\n",
    "        results = roll_dice(dice_specs)\n",
    "        if results['flat_profile'] in histo.keys():\n",
    "            histo[results['flat_profile']] +=1\n",
    "        else:\n",
    "            histo[results['flat_profile']] = 1\n",
    "            \n",
    "    return histo"
   ]
  },
  {
   "cell_type": "code",
   "execution_count": 49,
   "metadata": {},
   "outputs": [
    {
     "name": "stdout",
     "output_type": "stream",
     "text": [
      "{\n",
      "  \"0 [0, 0, 4]\": 808,\n",
      "  \"1 [1, 0, 3]\": 2326,\n",
      "  \"2 [0, 1, 3]\": 664,\n",
      "  \"2 [2, 0, 2]\": 2334,\n",
      "  \"3 [1, 1, 2]\": 1229,\n",
      "  \"3 [3, 0, 1]\": 1092,\n",
      "  \"4 [0, 2, 2]\": 146,\n",
      "  \"4 [2, 1, 1]\": 773,\n",
      "  \"4 [4, 0, 0]\": 171,\n",
      "  \"5 [1, 2, 1]\": 204,\n",
      "  \"5 [3, 1, 0]\": 173,\n",
      "  \"6 [0, 3, 1]\": 16,\n",
      "  \"6 [2, 2, 0]\": 58,\n",
      "  \"7 [1, 3, 0]\": 6\n",
      "}\n"
     ]
    }
   ],
   "source": [
    "histo = roll_stats_descriptive( [[3, 8], [1, 6]])\n",
    "print(json.dumps(histo, indent=2, sort_keys=True))\n",
    "# Note, this will get us into trouble if we ever have a score 10 or more,\n",
    "#  as the sort is sorting on the string representation of the first number"
   ]
  },
  {
   "cell_type": "code",
   "execution_count": 100,
   "metadata": {},
   "outputs": [],
   "source": [
    "# Now let's add up probability of each score\n",
    "\n",
    "def roll_stats( dice_specs, n_rolls = 10000):\n",
    "    histo = {}\n",
    "    for i in range(n_rolls):\n",
    "        results = roll_dice(dice_specs)\n",
    "        if results['score'] in histo.keys():\n",
    "            histo[results['score']] +=1\n",
    "        else:\n",
    "            histo[results['score']] = 1\n",
    "    \n",
    "    possibilities = []\n",
    "    for i in histo.keys():\n",
    "        possibilities.append(int(i))\n",
    "\n",
    "    labels = range(min(possibilities), max(possibilities)+1)\n",
    "    values = np.zeros(len(labels), dtype = int)\n",
    "    for i in histo.keys():\n",
    "        values[int(i)-min(possibilities)] = histo[i]\n",
    "        \n",
    "    values_nl = [ i/sum(values) for i in values]\n",
    "    return labels, values_nl"
   ]
  },
  {
   "cell_type": "code",
   "execution_count": 101,
   "metadata": {},
   "outputs": [
    {
     "name": "stdout",
     "output_type": "stream",
     "text": [
      "range(0, 8)\n",
      "[0.08368, 0.22846, 0.2976, 0.22954, 0.11466, 0.03816, 0.00746, 0.00044]\n"
     ]
    }
   ],
   "source": [
    "labels, values = roll_stats( [[3, 8], [1, 6]], n_rolls = 50000)\n",
    "print(labels)\n",
    "print(values)"
   ]
  },
  {
   "cell_type": "code",
   "execution_count": 102,
   "metadata": {},
   "outputs": [
    {
     "data": {
      "image/png": "[encoded data removed]",
      "text/plain": [
       "<Figure size 432x288 with 1 Axes>"
      ]
     },
     "metadata": {
      "needs_background": "light"
     },
     "output_type": "display_data"
    }
   ],
   "source": [
    "plt.bar(labels, values_nl)\n",
    "plt.show()"
   ]
  },
  {
   "cell_type": "code",
   "execution_count": 103,
   "metadata": {},
   "outputs": [],
   "source": [
    "def gather_and_plot_points(labels, values):\n",
    "    sum_rolls = []\n",
    "    for i in labels:\n",
    "        sum_rolls.append(i * values[i])\n",
    "    \n",
    "    sum_rolls_nl = [ i/sum(sum_rolls) for i in sum_rolls]\n",
    "    plt.bar(labels, sum_rolls_nl)\n",
    "    plt.show"
   ]
  },
  {
   "cell_type": "code",
   "execution_count": 104,
   "metadata": {},
   "outputs": [
    {
     "data": {
      "image/png": "[encoded data removed]",
      "text/plain": [
       "<Figure size 432x288 with 1 Axes>"
      ]
     },
     "metadata": {
      "needs_background": "light"
     },
     "output_type": "display_data"
    }
   ],
   "source": [
    "gather_and_plot_points(labels,values)"
   ]
  },
  {
   "cell_type": "code",
   "execution_count": 134,
   "metadata": {},
   "outputs": [
    {
     "data": {
      "image/png": "[encoded data removed]",
      "text/plain": [
       "<Figure size 1080x576 with 6 Axes>"
      ]
     },
     "metadata": {
      "needs_background": "light"
     },
     "output_type": "display_data"
    }
   ],
   "source": [
    "# Let's plot the three possibilties at once\n",
    "import matplotlib.ticker as mticker\n",
    "\n",
    "n_rolls = 10000\n",
    "cm = plt.cm.get_cmap('YlOrRd')\n",
    "\n",
    "fig, axs = plt.subplots(2,3, figsize = (15,8))\n",
    "fig.suptitle(\"Starwars Dice Rolls\\nN Rolls = \"+ str(n_rolls))\n",
    "\n",
    "labels, values = roll_stats([[3,8]], n_rolls)\n",
    "colors = [ cm( label / max(labels) ) for label in labels]\n",
    "\n",
    "axs[0,0].yaxis.set_major_formatter(mticker.PercentFormatter(decimals=0))\n",
    "axs[0,0].yaxis.grid()\n",
    "#axs[0,0].set_ylim(ymax=0.35)\n",
    "axs[0,0].bar(labels, values, color = colors)\n",
    "axs[0,0].set_title(\"3d8\")\n",
    "axs[0,0].set_xlabel(\"Number of total successes\")\n",
    "#axs[0,0].set_ylabel(\"Probability\")\n",
    "\n",
    "\n",
    "labels, values = roll_stats([[2,8],[1,12]], n_rolls)\n",
    "colors = [ cm( label / max(labels) ) for label in labels]\n",
    "axs[0,1].bar(labels, values, color = colors)\n",
    "axs[0,1].set_title(\"2d8 + 1d12\")\n",
    "axs[0,1].set_xlabel(\"Number of total successes\")\n",
    "\n",
    "labels, values = roll_stats([[3,8],[1,6]], n_rolls)\n",
    "colors = [ cm( label / max(labels) ) for label in labels]\n",
    "axs[0,2].bar(labels, values, color = colors)\n",
    "axs[0,2].set_title(\"3d8 + 1d6\")\n",
    "axs[0,2].set_xlabel(\"Number of total successes\")\n",
    "\n",
    "plt.show()"
   ]
  },
  {
   "cell_type": "markdown",
   "metadata": {},
   "source": [
    "# Pure Math"
   ]
  },
  {
   "cell_type": "code",
   "execution_count": 7,
   "metadata": {},
   "outputs": [
    {
     "name": "stdout",
     "output_type": "stream",
     "text": [
      "512\n"
     ]
    }
   ],
   "source": [
    "# Pure math approach\n",
    "# calculating probability of all posibilites of rolling d8\n",
    "# raw dice side outcomes are n_sides ^ m_dice = 8^3 = 512 possible outcomes, side for side\n",
    "# acutal possible outcomes are n_possiblities ^ m_dice or 3^3 = 27, but with redundancy becuase we allow replacement\n",
    "\n",
    "# 3x success\n",
    "# 3x double success\n",
    "# 3x blank\n",
    "# 2x success, 1x double success\n",
    "# 2x success, 1x blank\n",
    "# 2x double success, 1x success\n",
    "# 2x double success, 1x blank\n",
    "# 2x blank, 1x success\n",
    "# 2x blank, 1x double success\n",
    "# 1x success, 1x double success, 1x blank \n",
    "\n",
    "# this complicated by different weightings on the possibilities of each side\n",
    "import math\n",
    "print(8*8*8)"
   ]
  },
  {
   "cell_type": "code",
   "execution_count": 15,
   "metadata": {},
   "outputs": [
    {
     "name": "stdout",
     "output_type": "stream",
     "text": [
      "[array([1, 4, 4, 5, 1, 4, 1, 3, 5, 1]), array([6, 2, 6, 4, 2, 2, 4, 5, 3, 4])]\n"
     ]
    }
   ],
   "source": [
    "# Let's test the dice roller\n",
    "\n",
    "n_throws = 10\n",
    "n_dice = 2\n",
    "# here we can leave out 'n_sides' since we specified a default in the function definition\n",
    "dice_rolls = roll_dice(n_throws, n_dice)\n",
    "\n",
    "# let's inspect the output.\n",
    "# we expect a 2x10 array (2 dice, rolled 10 times each) of values ranging 1 to 6 (since we are rolling a d6)\n",
    "# Note: each time you re-run this cell new rolls will be generated\n",
    "print(dice_rolls)"
   ]
  },
  {
   "cell_type": "code",
   "execution_count": 28,
   "metadata": {},
   "outputs": [],
   "source": [
    "# Let's define a helper to create histograms quickly\n",
    "# input will be initial parameters\n",
    "# no ouput returned, but it will show a plot\n",
    "\n",
    "def quick_dice_histo(n_rolls, n_dice, n_sides):\n",
    "    max_val = n_dice * n_sides\n",
    "    \n",
    "    # generate the dice rolls\n",
    "    samples = sum_throws(roll_dice(n_rolls, n_dice, n_sides))\n",
    "    \n",
    "    # bucket rolls into histogram\n",
    "    histo, edges = np.histogram(samples, bins=np.arange(1,(max_val + 2)))\n",
    "    \n",
    "    # plot histogram\n",
    "    plt.bar(edges[:max_val], histo)\n",
    "    plt.show()"
   ]
  },
  {
   "cell_type": "code",
   "execution_count": 31,
   "metadata": {},
   "outputs": [
    {
     "data": {
      "image/png": "[encoded data removed]",
      "text/plain": [
       "<Figure size 432x288 with 1 Axes>"
      ]
     },
     "metadata": {
      "needs_background": "light"
     },
     "output_type": "display_data"
    }
   ],
   "source": [
    "quick_dice_histo(10000, 2, 6)"
   ]
  },
  {
   "cell_type": "markdown",
   "metadata": {},
   "source": [
    "### Analyzing different distributions"
   ]
  },
  {
   "cell_type": "code",
   "execution_count": 33,
   "metadata": {},
   "outputs": [
    {
     "data": {
      "image/png": "[encoded data removed]",
      "text/plain": [
       "<Figure size 432x288 with 1 Axes>"
      ]
     },
     "metadata": {
      "needs_background": "light"
     },
     "output_type": "display_data"
    }
   ],
   "source": [
    "# 1xd6\n",
    "quick_dice_histo(10000, 1, 6)"
   ]
  },
  {
   "cell_type": "code",
   "execution_count": 34,
   "metadata": {},
   "outputs": [
    {
     "data": {
      "image/png": "[encoded data removed]",
      "text/plain": [
       "<Figure size 432x288 with 1 Axes>"
      ]
     },
     "metadata": {
      "needs_background": "light"
     },
     "output_type": "display_data"
    }
   ],
   "source": [
    "# 2xd6\n",
    "quick_dice_histo(10000, 2, 6)"
   ]
  },
  {
   "cell_type": "code",
   "execution_count": 38,
   "metadata": {},
   "outputs": [
    {
     "data": {
      "image/png": "[encoded data removed]",
      "text/plain": [
       "<Figure size 432x288 with 1 Axes>"
      ]
     },
     "metadata": {
      "needs_background": "light"
     },
     "output_type": "display_data"
    }
   ],
   "source": [
    "# 3xd6\n",
    "quick_dice_histo(100000, 3, 6)"
   ]
  },
  {
   "cell_type": "code",
   "execution_count": 40,
   "metadata": {},
   "outputs": [
    {
     "data": {
      "image/png": "[encoded data removed]",
      "text/plain": [
       "<Figure size 432x288 with 1 Axes>"
      ]
     },
     "metadata": {
      "needs_background": "light"
     },
     "output_type": "display_data"
    }
   ],
   "source": [
    "# 1xd8\n",
    "quick_dice_histo(100000, 1, 8)"
   ]
  },
  {
   "cell_type": "code",
   "execution_count": 41,
   "metadata": {},
   "outputs": [
    {
     "data": {
      "image/png": "[encoded data removed]",
      "text/plain": [
       "<Figure size 432x288 with 1 Axes>"
      ]
     },
     "metadata": {
      "needs_background": "light"
     },
     "output_type": "display_data"
    }
   ],
   "source": [
    "# 2xd8\n",
    "quick_dice_histo(100000, 2, 8)"
   ]
  },
  {
   "cell_type": "code",
   "execution_count": 42,
   "metadata": {},
   "outputs": [
    {
     "data": {
      "image/png": "[encoded data removed]",
      "text/plain": [
       "<Figure size 432x288 with 1 Axes>"
      ]
     },
     "metadata": {
      "needs_background": "light"
     },
     "output_type": "display_data"
    }
   ],
   "source": [
    "# 3xd8\n",
    "quick_dice_histo(100000, 3, 8)"
   ]
  },
  {
   "cell_type": "code",
   "execution_count": 43,
   "metadata": {},
   "outputs": [
    {
     "data": {
      "image/png": "[encoded data removed]",
      "text/plain": [
       "<Figure size 432x288 with 1 Axes>"
      ]
     },
     "metadata": {
      "needs_background": "light"
     },
     "output_type": "display_data"
    }
   ],
   "source": [
    "# 3xd20\n",
    "quick_dice_histo(100000, 3, 20)"
   ]
  },
  {
   "cell_type": "code",
   "execution_count": 44,
   "metadata": {},
   "outputs": [
    {
     "data": {
      "image/png": "[encoded data removed]",
      "text/plain": [
       "<Figure size 432x288 with 1 Axes>"
      ]
     },
     "metadata": {
      "needs_background": "light"
     },
     "output_type": "display_data"
    }
   ],
   "source": [
    "# 4xd6\n",
    "quick_dice_histo(100000, 4, 6)"
   ]
  },
  {
   "cell_type": "code",
   "execution_count": 45,
   "metadata": {},
   "outputs": [
    {
     "data": {
      "image/png": "[encoded data removed]",
      "text/plain": [
       "<Figure size 432x288 with 1 Axes>"
      ]
     },
     "metadata": {
      "needs_background": "light"
     },
     "output_type": "display_data"
    }
   ],
   "source": [
    "# 6xd8\n",
    "quick_dice_histo(100000, 6, 8)"
   ]
  },
  {
   "cell_type": "code",
   "execution_count": null,
   "metadata": {},
   "outputs": [],
   "source": []
  }
 ],
 "metadata": {
  "kernelspec": {
   "display_name": "Python 3",
   "language": "python",
   "name": "python3"
  },
  "language_info": {
   "codemirror_mode": {
    "name": "ipython",
    "version": 3
   },
   "file_extension": ".py",
   "mimetype": "text/x-python",
   "name": "python",
   "nbconvert_exporter": "python",
   "pygments_lexer": "ipython3",
   "version": "3.7.4"
  }
 },
 "nbformat": 4,
 "nbformat_minor": 2
}
