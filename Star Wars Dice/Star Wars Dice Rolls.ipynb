{
 "cells": [
  {
   "cell_type": "markdown",
   "metadata": {},
   "source": [
    "# Star Wars Dice Rolling Simulator\n",
    "Original question posed as, \n",
    "\n",
    "    \"In a game, you start with 3 dice with 8 sides (d8),\n",
    "    When you upgrade, is it better change a d8 to a d12, or instead add a d6?\"\n",
    "    \n",
    "This depends on the content of each of the sides, and what fovorable or unfavorable outcomes you are optimizing for.\n",
    "Below we will be solving with a brute force method, then with pure math"
   ]
  },
  {
   "cell_type": "markdown",
   "metadata": {},
   "source": [
    "# Setup"
   ]
  },
  {
   "cell_type": "markdown",
   "metadata": {},
   "source": [
    "### Load packages"
   ]
  },
  {
   "cell_type": "code",
   "execution_count": 1,
   "metadata": {},
   "outputs": [],
   "source": [
    "# First import librarires\n",
    "# numpy will be used for our random number generator, and for quickly bucketing the histogram\n",
    "# matplotlib is for plotting the histogram\n",
    "\n",
    "import numpy as np\n",
    "import math\n",
    "import json\n",
    "import matplotlib.pyplot as plt"
   ]
  },
  {
   "cell_type": "markdown",
   "metadata": {},
   "source": [
    "### Problem Definitions"
   ]
  },
  {
   "cell_type": "code",
   "execution_count": 2,
   "metadata": {},
   "outputs": [],
   "source": [
    "# Setup a default random number generator from numpy\n",
    "# since no seed is specified, a random seed will be pulled fresh from the OS\n",
    "rng = np.random.default_rng()\n",
    "\n",
    "d6_dice = {\n",
    "    1: \"success\",\n",
    "    2: \"success\",\n",
    "    3: \"blank\",\n",
    "    4: \"blank\",\n",
    "    5: \"blank\",\n",
    "    6: \"blank\"\n",
    "}\n",
    "\n",
    "d8_dice = {\n",
    "    1: \"success\",\n",
    "    2: \"success\",\n",
    "    3: \"success\",\n",
    "    4: \"double success\",\n",
    "    5: \"blank\",\n",
    "    6: \"blank\",\n",
    "    7: \"blank\",\n",
    "    8: \"blank\"\n",
    "}\n",
    "\n",
    "d12_dice = {\n",
    "    1: \"success\",\n",
    "    2: \"success\",\n",
    "    3: \"success\",\n",
    "    4: \"success\",\n",
    "    5: \"success\",\n",
    "    6: \"success\",\n",
    "    7: \"double success\",\n",
    "    8: \"double success\",\n",
    "    9: \"blank\",\n",
    "    10: \"blank\",\n",
    "    11: \"blank\",\n",
    "    12: \"blank\"\n",
    "}\n",
    "\n",
    "dice_chooser = {\n",
    "    6: d6_dice,\n",
    "    8: d8_dice,\n",
    "    12: d12_dice\n",
    "}\n",
    "\n",
    "roll_points = {\n",
    "    \"blank\": 0,\n",
    "    \"success\": 1,\n",
    "    \"double success\": 2\n",
    "}"
   ]
  },
  {
   "cell_type": "markdown",
   "metadata": {},
   "source": [
    "# Brute Force: Monte Carlo"
   ]
  },
  {
   "cell_type": "code",
   "execution_count": 3,
   "metadata": {},
   "outputs": [],
   "source": [
    "# Helper to roll the dice\n",
    "# Will roll a set of dice 1 time\n",
    "# input is: [ [number of dice type 1, number of sides of dice type 1], [..2, ..2], ... ]\n",
    "# output is: a dictionary containing\n",
    "#  \"throws\": a list containing the actual sides that were thrown for this set\n",
    "#  \"profile\": counting up the number of times each result was found for this set\n",
    "#  \"score\": added up points for number of total successes for this set\n",
    "#  \"flat_profile\": a string representation of what happened this set\n",
    "\n",
    "def roll_dice(dice_specs):\n",
    "    result = {\n",
    "        'throws': [],\n",
    "        'score': 0,\n",
    "        'profile': {\n",
    "            'success': 0,\n",
    "            'double success': 0,\n",
    "            'blank': 0\n",
    "        } \n",
    "    }\n",
    "    \n",
    "    for i in range(len(dice_specs)):\n",
    "        n_sides = dice_specs[i][1]\n",
    "        n_dice = dice_specs[i][0]\n",
    "        rolls = rng.integers(low = 1, high=n_sides, size=n_dice, endpoint=True)\n",
    "        \n",
    "        d_dict = dice_chooser[n_sides] if n_sides in dice_chooser.keys() else print(\"Error, dice not found\")\n",
    "        \n",
    "        for roll in rolls:\n",
    "            outcome = d_dict[roll]\n",
    "            result['profile'][outcome] += 1\n",
    "            result['throws'].append(outcome)\n",
    "            result['score'] += roll_points[outcome]\n",
    "    \n",
    "    flat_profile = [result['profile']['success'], result['profile']['double success'], result['profile']['blank']]\n",
    "    result['flat_profile'] = str(result['score']) + \" \" + str(flat_profile)\n",
    "    \n",
    "    return result"
   ]
  },
  {
   "cell_type": "code",
   "execution_count": 4,
   "metadata": {},
   "outputs": [
    {
     "name": "stdout",
     "output_type": "stream",
     "text": [
      "{\n",
      "  \"throws\": [\n",
      "    \"blank\",\n",
      "    \"double success\",\n",
      "    \"success\",\n",
      "    \"blank\"\n",
      "  ],\n",
      "  \"score\": 3,\n",
      "  \"profile\": {\n",
      "    \"success\": 1,\n",
      "    \"double success\": 1,\n",
      "    \"blank\": 2\n",
      "  },\n",
      "  \"flat_profile\": \"3 [1, 1, 2]\"\n",
      "}\n"
     ]
    }
   ],
   "source": [
    "# Let's try it out. \n",
    "# Let's roll 3d8 and 1d6\n",
    "result = roll_dice([[3,8], [1,6]])\n",
    "print(json.dumps(result, indent=2))\n"
   ]
  },
  {
   "cell_type": "code",
   "execution_count": 5,
   "metadata": {},
   "outputs": [],
   "source": [
    "# now let's\n",
    "# 1. collect a bunch of samples,\n",
    "# 2. bin the results into a histogram\n",
    "# 3. organize histogram by desireable outcome\n",
    "\n",
    "def roll_stats_descriptive( dice_specs, n_rolls = 10000):\n",
    "    histo = {}\n",
    "    for i in range(n_rolls):\n",
    "        results = roll_dice(dice_specs)\n",
    "        if results['flat_profile'] in histo.keys():\n",
    "            histo[results['flat_profile']] +=1\n",
    "        else:\n",
    "            histo[results['flat_profile']] = 1\n",
    "            \n",
    "    return histo"
   ]
  },
  {
   "cell_type": "code",
   "execution_count": 6,
   "metadata": {},
   "outputs": [
    {
     "name": "stdout",
     "output_type": "stream",
     "text": [
      "{\n",
      "  \"0 [0, 0, 4]\": 831,\n",
      "  \"1 [1, 0, 3]\": 2266,\n",
      "  \"2 [0, 1, 3]\": 601,\n",
      "  \"2 [2, 0, 2]\": 2389,\n",
      "  \"3 [1, 1, 2]\": 1271,\n",
      "  \"3 [3, 0, 1]\": 1060,\n",
      "  \"4 [0, 2, 2]\": 167,\n",
      "  \"4 [2, 1, 1]\": 804,\n",
      "  \"4 [4, 0, 0]\": 166,\n",
      "  \"5 [1, 2, 1]\": 197,\n",
      "  \"5 [3, 1, 0]\": 176,\n",
      "  \"6 [0, 3, 1]\": 16,\n",
      "  \"6 [2, 2, 0]\": 50,\n",
      "  \"7 [1, 3, 0]\": 6\n",
      "}\n"
     ]
    }
   ],
   "source": [
    "histo = roll_stats_descriptive( [[3, 8], [1, 6]])\n",
    "print(json.dumps(histo, indent=2, sort_keys=True))\n",
    "# Note, this will get us into trouble if we ever have a score 10 or more,\n",
    "#  as the sort is sorting on the string representation of the first number"
   ]
  },
  {
   "cell_type": "code",
   "execution_count": 28,
   "metadata": {},
   "outputs": [],
   "source": [
    "# Now let's add up probability of each score\n",
    "\n",
    "def roll_stats( dice_specs, n_rolls = 10000, normalize=True):\n",
    "    histo = {}\n",
    "    for i in range(n_rolls):\n",
    "        results = roll_dice(dice_specs)\n",
    "        if results['score'] in histo.keys():\n",
    "            histo[results['score']] +=1\n",
    "        else:\n",
    "            histo[results['score']] = 1\n",
    "    \n",
    "    possibilities = []\n",
    "    for i in histo.keys():\n",
    "        possibilities.append(int(i))\n",
    "\n",
    "    labels = range(min(possibilities), max(possibilities)+1)\n",
    "    values = np.zeros(len(labels), dtype = int)\n",
    "    for i in histo.keys():\n",
    "        values[int(i)-min(possibilities)] = histo[i]\n",
    "    \n",
    "    if normalize:\n",
    "        values_nl = [ i/sum(values) for i in values]\n",
    "        values = values_nl\n",
    "    return labels, values"
   ]
  },
  {
   "cell_type": "code",
   "execution_count": 29,
   "metadata": {},
   "outputs": [
    {
     "name": "stdout",
     "output_type": "stream",
     "text": [
      "[0.08238, 0.22878, 0.29752, 0.23056, 0.1155, 0.03772, 0.00692, 0.00062]\n"
     ]
    }
   ],
   "source": [
    "n_rolls = 50000\n",
    "labels, values = roll_stats( [[3, 8], [1, 6]], n_rolls)\n",
    "print(values)"
   ]
  },
  {
   "cell_type": "code",
   "execution_count": 52,
   "metadata": {},
   "outputs": [
    {
     "data": {
      "image/png": "[encoded data removed]",
      "text/plain": [
       "<Figure size 432x288 with 1 Axes>"
      ]
     },
     "metadata": {
      "needs_background": "light"
     },
     "output_type": "display_data"
    }
   ],
   "source": [
    "# Let's plot the histogram\n",
    "plt.bar(labels, values)\n",
    "# add some fancy display options\n",
    "ax = plt.gca()\n",
    "ax.set_title(\"Histogram of Dice throws for 3d8 and 1d6\")\n",
    "ax.set_xlabel(\"Number of Successes\")\n",
    "ax.set_ylabel(\"Probability\")\n",
    "ax.yaxis.grid()\n",
    "plt.show()"
   ]
  },
  {
   "cell_type": "markdown",
   "metadata": {},
   "source": [
    "Now we have an understanding of the probability of each numerical outcome, we really want to know how many successes this gives us in total.\n",
    "\n",
    "To do this we can simlpy multiply the probability mass by the weight (number of successes), and then multiply this by the total number of dice throws. "
   ]
  },
  {
   "cell_type": "code",
   "execution_count": 31,
   "metadata": {},
   "outputs": [],
   "source": [
    "def gather_points(labels, values, n_rolls, normalized=True):\n",
    "    sum_rolls = []\n",
    "    factor = n_rolls if normalized else 1\n",
    "    for i in labels:\n",
    "        sum_rolls.append(i * values[i] * factor)\n",
    "    \n",
    "    total = sum(sum_rolls)\n",
    "    return sum_rolls, total"
   ]
  },
  {
   "cell_type": "code",
   "execution_count": 54,
   "metadata": {},
   "outputs": [
    {
     "data": {
      "image/png": "[encoded data removed]",
      "text/plain": [
       "<Figure size 432x288 with 1 Axes>"
      ]
     },
     "metadata": {
      "needs_background": "light"
     },
     "output_type": "display_data"
    }
   ],
   "source": [
    "points, total = gather_points(labels,values, n_rolls)\n",
    "plt.bar(labels, points)\n",
    "plt.title(\"Rolling 3d8 and 1d6\\nTotal number of successes: \"+str(int(total)))\n",
    "plt.show()"
   ]
  },
  {
   "cell_type": "code",
   "execution_count": 49,
   "metadata": {},
   "outputs": [
    {
     "name": "stdout",
     "output_type": "stream",
     "text": [
      "normalized\n",
      "[18789, 18727, 18559, 18529, 18695, 18711, 18730, 18749, 19057, 18606]\n",
      "18715.2\n",
      "139.71\n",
      "not normalized\n",
      "[18589, 18820, 18759, 18789, 18805, 18919, 18411, 18718, 18533, 18614]\n",
      "18695.7\n",
      "146.98\n",
      "difference\n",
      "19.5\n"
     ]
    }
   ],
   "source": [
    "n_rolls = 10000\n",
    "n_iter = 10\n",
    "normal = []\n",
    "not_normal = []\n",
    "for i in range(n_iter): \n",
    "    l, v = roll_stats([[3,8]], n_rolls, normalize=False)\n",
    "    s, t1 = gather_points(l, v, n_rolls, normalized=False)\n",
    "    normal.append(t1)\n",
    "    l, v = roll_stats([[3,8]], n_rolls, normalize=True)\n",
    "    s, t2 = gather_points(l, v, n_rolls, normalized=True)\n",
    "    not_normal.append(int(t2))\n",
    "\n",
    "print(\"normalized\")\n",
    "print(normal)\n",
    "print(np.mean(normal))\n",
    "print(str(np.std(normal))[:6])\n",
    "print(\"not normalized\")\n",
    "print(not_normal)\n",
    "print(np.mean(not_normal))\n",
    "print(str(np.std(not_normal))[:6])\n",
    "print('difference')\n",
    "print(np.mean(normal) - np.mean(not_normal))"
   ]
  },
  {
   "cell_type": "code",
   "execution_count": 50,
   "metadata": {},
   "outputs": [
    {
     "data": {
      "image/png": "[encoded data removed]",
      "text/plain": [
       "<Figure size 1080x576 with 6 Axes>"
      ]
     },
     "metadata": {
      "needs_background": "light"
     },
     "output_type": "display_data"
    }
   ],
   "source": [
    "# Let's plot the three possibilties at once\n",
    "import matplotlib.ticker as mticker\n",
    "\n",
    "n_rolls = 50000\n",
    "cm = plt.cm.get_cmap('YlOrRd')\n",
    "\n",
    "fig, axs = plt.subplots(2,3, figsize = (15,8))\n",
    "fig.suptitle(\"Starwars Dice Rolls\\nN Rolls = \"+ str(n_rolls))\n",
    "fig.subplots_adjust(hspace=.6)\n",
    "\n",
    "### 3d8 ###\n",
    "labels, values = roll_stats([[3,8]], n_rolls)\n",
    "colors = [ cm( label / max(labels) ) for label in labels]\n",
    "i, j = 0,0\n",
    "axs[i,j].bar(labels, values, color = colors)\n",
    "axs[i,j].yaxis.set_major_formatter(mticker.PercentFormatter(1,decimals=0))\n",
    "axs[i,j].yaxis.grid()\n",
    "axs[i,j].set_ylim(ymax=0.35)\n",
    "axs[i,j].set_title(\"3d8\")\n",
    "axs[i,j].set_xlabel(\"Number of total successes\")\n",
    "axs[i,j].set_ylabel(\"Probability\")\n",
    "\n",
    "i, j = 1,0\n",
    "points, total = gather_points(labels, values, n_rolls)\n",
    "axs[i,j].bar(labels, points, color = colors)\n",
    "#axs[i,j].yaxis.set_major_formatter(mticker.PercentFormatter(1,decimals=0))\n",
    "axs[i,j].yaxis.grid()\n",
    "axs[i,j].set_ylim(ymax=(n_rolls * 0.75))\n",
    "axs[i,j].set_title(\"3d8\\nTotal Cumulative Successes: \"+ str(int(total))+\"\\nFactor: \"+ str(total / n_rolls))\n",
    "axs[i,j].set_xlabel(\"Number of successes\")\n",
    "axs[i,j].set_ylabel(\"Cumulative Successes\")\n",
    "\n",
    "\n",
    "### 2d8 + 1d12 ###\n",
    "labels, values = roll_stats([[2,8],[1,12]], n_rolls)\n",
    "colors = [ cm( label / max(labels) ) for label in labels]\n",
    "i,j = 0,1\n",
    "axs[i,j].bar(labels, values, color = colors)\n",
    "axs[i,j].yaxis.set_major_formatter(mticker.PercentFormatter(1,decimals=0))\n",
    "axs[i,j].yaxis.grid()\n",
    "axs[i,j].set_ylim(ymax=0.35)\n",
    "axs[i,j].set_title(\"2d8 + 1d12\")\n",
    "axs[i,j].set_xlabel(\"Number of total successes\")\n",
    "\n",
    "i, j = 1,1\n",
    "points, total = gather_points(labels, values, n_rolls)\n",
    "axs[i,j].bar(labels, points, color = colors)\n",
    "#axs[i,j].yaxis.set_major_formatter(mticker.PercentFormatter(1,decimals=0))\n",
    "axs[i,j].yaxis.grid()\n",
    "axs[i,j].set_ylim(ymax=(n_rolls * 0.75))\n",
    "axs[i,j].set_title(\"2d8 + 1d12\\nTotal Cumulative Successes: \"+ str(int(total))+\"\\nFactor: \"+ str(total / n_rolls))\n",
    "axs[i,j].set_xlabel(\"Number of successes\")\n",
    "\n",
    "### 3d8 + 1d6 ##\n",
    "labels, values = roll_stats([[3,8],[1,6]], n_rolls)\n",
    "colors = [ cm( label / max(labels) ) for label in labels]\n",
    "i,j = 0,2\n",
    "axs[i,j].bar(labels, values, color = colors)\n",
    "axs[i,j].yaxis.set_major_formatter(mticker.PercentFormatter(1,decimals=0))\n",
    "axs[i,j].yaxis.grid()\n",
    "axs[i,j].set_ylim(ymax=0.35)\n",
    "axs[i,j].set_xticks(range(8))\n",
    "axs[i,j].set_title(\"3d8 + 1d6\")\n",
    "axs[i,j].set_xlabel(\"Number of total successes\")\n",
    "\n",
    "i, j = 1,2\n",
    "points, total = gather_points(labels, values, n_rolls)\n",
    "axs[i,j].bar(labels, points, color = colors)\n",
    "#axs[i,j].yaxis.set_major_formatter(mticker.PercentFormatter(1,decimals=0))\n",
    "axs[i,j].yaxis.grid()\n",
    "axs[i,j].set_ylim(ymax=(n_rolls * 0.75))\n",
    "axs[i,j].set_title(\"3d8 + 1d6\\nTotal Cumulative Successes: \"+ str(int(total))+\"\\nFactor: \"+ str(total / n_rolls))\n",
    "axs[i,j].set_xlabel(\"Number of successes\")\n",
    "axs[i,j].set_xticks(range(8))\n",
    "\n",
    "plt.show()"
   ]
  },
  {
   "cell_type": "markdown",
   "metadata": {},
   "source": [
    "# Pure Math"
   ]
  },
  {
   "cell_type": "code",
   "execution_count": 51,
   "metadata": {},
   "outputs": [
    {
     "name": "stdout",
     "output_type": "stream",
     "text": [
      "512\n"
     ]
    }
   ],
   "source": [
    "# Pure math approach\n",
    "# calculating probability of all posibilites of rolling d8\n",
    "# raw dice side outcomes are n_sides ^ m_dice = 8^3 = 512 possible outcomes, side for side\n",
    "# acutal possible outcomes are n_possiblities ^ m_dice or 3^3 = 27, but with redundancy becuase we allow replacement\n",
    "\n",
    "# 3x success\n",
    "# 3x double success\n",
    "# 3x blank\n",
    "# 2x success, 1x double success\n",
    "# 2x success, 1x blank\n",
    "# 2x double success, 1x success\n",
    "# 2x double success, 1x blank\n",
    "# 2x blank, 1x success\n",
    "# 2x blank, 1x double success\n",
    "# 1x success, 1x double success, 1x blank \n",
    "\n",
    "# this complicated by different weightings on the possibilities of each side\n",
    "\n",
    "print(8*8*8)"
   ]
  },
  {
   "cell_type": "code",
   "execution_count": 14,
   "metadata": {},
   "outputs": [],
   "source": [
    "# TODO"
   ]
  },
  {
   "cell_type": "code",
   "execution_count": null,
   "metadata": {},
   "outputs": [],
   "source": []
  }
 ],
 "metadata": {
  "kernelspec": {
   "display_name": "Python 3",
   "language": "python",
   "name": "python3"
  },
  "language_info": {
   "codemirror_mode": {
    "name": "ipython",
    "version": 3
   },
   "file_extension": ".py",
   "mimetype": "text/x-python",
   "name": "python",
   "nbconvert_exporter": "python",
   "pygments_lexer": "ipython3",
   "version": "3.7.4"
  }
 },
 "nbformat": 4,
 "nbformat_minor": 2
}
