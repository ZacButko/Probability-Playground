{
 "cells": [
  {
   "cell_type": "markdown",
   "metadata": {},
   "source": [
    "# Warfish Introduction\n",
    "Warfish is a turn-based strategy game much like the classic 'Risk'. You build armies, conquer territories, and crush your enemies. Here's a quick peek:\n",
    "\n",
    "![Example warfish gameboard](img/example-game01.png)\n",
    "\n",
    "\n",
    "### How it works\n",
    "------------\n",
    "**General game rules:**\n",
    "- Each player has a set of armies spread over the board indicated by their respective color.\n",
    "- Attack your opponents to take their territories.\n",
    "- The last remaining player is the winner\n",
    "\n",
    "In this guide we will be using 'troop' and 'army' interchangably. They mean the same thing here.\n",
    "\n",
    "**Playing**\n",
    "The game is played on a turn-by-turn basis. Each player will have an opportunity to take game moves on their turn before it becomes the next players turn. Once all players have gone, it becomes the first player's turn again, and so on.\n",
    "\n",
    "**On each turn**\n",
    "0. **Receive new troops:** Active player receives new troops equal to territory income plus continent bonuses. Territory income on this map is 1 army per 3 territories, minimum 3. Continent bonus is awarded for owning all territories in a continent. \n",
    "\n",
    "> _Example:_ On this map blue owns 16 territories and all of the continent South America. Therefore their bonus will be:  **6 units** +4(14 countries/3, min 3),+2(South America)\n",
    "\n",
    "1. **Place units:** Active player places their newly earned troops however they want in any of their territories.\n",
    "> _Example:_ Blue wants to slowly spread into Europe and North America. They place 4 troops in Iceland and 2 troops in Western United States. Iceland now holds 5 Blue and W. United States also has 5 Blue.\n",
    "\n",
    "2. **Attack:** Active player can use their armies to attack opponents any number of times.\n",
    "\n",
    "One attack round consists of the following:\n",
    "- Attacker selects a territory they want to attack from.\n",
    "- Attacker must leave one troop behind to guard territory\n",
    "- From the available attack troops (n-1), attacker selects whether to attack with 1, 2, or 3 troops\n",
    "- Defender always defends their maximum, up to 2 troops. If they have 1 left, they defend with 1. If they have 2 or more, they defend with 2\n",
    "- Each attack troop and deffend troop roll one six sided dice. \n",
    "- The highest attack dice is compared against the higest defend dice. Defender wins ties, so attacker loses one attacking army if their dice is equal to or lower than the defender dice. If the attack dice is higher, then the defender loses one troop and the attacker loses none.\n",
    "- If both attacker attacked with more than one dice and defender defended with more than one dice, the next highest dice roll from each is compared in a similar way.\n",
    "- Once all dice are resolved, the attack is over and troop totals are updated on the board\n",
    "- The attacker can choose to do the same attack again and again, or move on and attack other territories, or chose to cease attacking and move onto the next play phase, transfer.\n",
    "- Once a territory is conquered, the attacker can choose to move any available armies from the attacking territory into the conqueret territory and continue their seige.\n",
    "\n",
    "> _Example:_ Blue decides that they do want to invade Scandanavia from Iceland. They have 5 troops in the territory, so have 4 possible troops to attack with. They choose to attack with the maximum allowed 3 against the defender's 1. The attacker rolls (6, 4, 3) and defender rolls (3). The attacker's highest (6) is compared against the defender's highest (3). Since 6 is higher than 3, the attack succeeds, the defender loses an army, and the territory is now owned by blue, and occupied by the 3 attacking armies. Blue decides not to transfer any more armies (1 more available) to the territory. There is now 2 armies remaining in Iceland and 3 blue occupying Scandanavia.\n",
    "\n",
    "> Blue attacks agian, this time from W. United States into Alberta, sending 3 against Gray's 2. Attacker rolls (6, 3, 2) and defender rolls (5,3). Comparing highest dice, defender loses the first round, but wins the second. Blue now has 4 troops remaining in W. United States (3 left to attack with) and Gray has 2 remaining troops. Blue attacks again rolling (5,4,1) and Gray defends with (3,3). Gray loses both times, so Blue takes the territory with three troops left, and one remaining behind in W. United States.\n",
    "\n",
    "3. **Transfer:** Active player can make one transfer from one of their territories to another of their territories in order to fortify defenses, or pepare for their next attack.\n",
    "4. **Awarded Card:** If the player took at least one territory on their turn, they are awarded a card. Three cards can be traded in for more troops"
   ]
  },
  {
   "cell_type": "code",
   "execution_count": null,
   "metadata": {},
   "outputs": [],
   "source": []
  }
 ],
 "metadata": {
  "kernelspec": {
   "display_name": "Python 3",
   "language": "python",
   "name": "python3"
  },
  "language_info": {
   "codemirror_mode": {
    "name": "ipython",
    "version": 3
   },
   "file_extension": ".py",
   "mimetype": "text/x-python",
   "name": "python",
   "nbconvert_exporter": "python",
   "pygments_lexer": "ipython3",
   "version": "3.7.4"
  }
 },
 "nbformat": 4,
 "nbformat_minor": 2
}
